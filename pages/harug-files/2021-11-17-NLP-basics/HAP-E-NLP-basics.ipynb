{
 "cells": [
  {
   "cell_type": "markdown",
   "id": "ab2d5425",
   "metadata": {},
   "source": [
    "# Harper Adams Data Science \n",
    "## NLP Basics in python\n",
    "<center>\n",
    "   <img src=\"img/HAP-E-logo.png\" alt=\"HAP-E Group\" width=\"125\"/>\n",
    "</center>\n",
    "\n",
    "Ed Harris </br>\n",
    "HARUG! / HAP-E Group </br>\n",
    "2021-11-17 </br>"
   ]
  },
  {
   "cell_type": "markdown",
   "id": "2c18bfb6",
   "metadata": {},
   "source": [
    "# 0 What do we want to accomplish today?\n",
    "\n",
    "1. Remarks on Python environment setup\n",
    "2. Introduce Natural Language Processing (NLP) and sentiment analysis\n",
    "3. Explore the dataset and example\n",
    "4. Make a basic 'word cloud'\n",
    "5. Word cloud graphical data summary\n",
    "6. Data handling for sentiment analysis\n",
    "7. First sentiment model\n",
    "8. Evaluating the sentiment model\n",
    "9. Live coding (you try it)\n",
    "\n",
    "&nbsp;"
   ]
  },
  {
   "cell_type": "markdown",
   "id": "5798ee89",
   "metadata": {},
   "source": [
    "# 1. Remarks on Python environment setup\n",
    "\n",
    "The choices from easiest and best for the beginner (NB beginner means anyone who is not confident setting environment path for programming language on their own operating system, anyone who has not used Linux before, anyone who is not confident managing files with the command line), to hardest\n",
    "\n",
    "- Anaconda\n",
    "- Colab\n",
    "- JupyterLab Standalone app\n",
    "- any other method\n",
    "\n",
    "&nbsp;"
   ]
  },
  {
   "cell_type": "code",
   "execution_count": null,
   "id": "c5136e4d",
   "metadata": {},
   "outputs": [],
   "source": [
    "# NB you need pandas installed for this\n",
    "# import pandas for data tools\n",
    "import pandas as pd\n",
    "\n",
    "# NB you need plotly installed for this\n",
    "# imports tools for graphs\n",
    "import matplotlib.pyplot as plt\n",
    "import seaborn as sns\n",
    "color = sns.color_palette()\n",
    "%matplotlib inline\n",
    "\n",
    "# NB you need plotly installed for this\n",
    "import plotly.offline as py\n",
    "py.init_notebook_mode(connected=True)\n",
    "import plotly.graph_objs as go\n",
    "import plotly.tools as tls\n",
    "import plotly.express as px\n",
    "import plotly.offline as pyo\n",
    "\n"
   ]
  },
  {
   "cell_type": "code",
   "execution_count": null,
   "id": "f52820fb-f82d-4a42-ab7e-316c6982609d",
   "metadata": {},
   "outputs": [],
   "source": [
    "# for wordclouds and NLP\n",
    "import nltk\n",
    "from nltk.corpus import stopwords\n",
    "\n",
    "# Import package\n",
    "from wordcloud import WordCloud, STOPWORDS"
   ]
  },
  {
   "cell_type": "markdown",
   "id": "5a10aa5e",
   "metadata": {},
   "source": [
    "# 2. Introduce Natural Language Processing (NLP) and sentiment analysis\n",
    "\n",
    "Use cases for sentiment analysis:\n",
    "- Company/feedback from consumers\n",
    "- Survey analysis\n",
    "- Political tendency\n",
    "- Many others\n",
    "\n",
    "Use cases for NLP:\n",
    "- Chat bots (e.g. customer service, help lines, etc.)\n",
    "- Auto-generation and analysis of text\n",
    "- language translation\n",
    "\n",
    "Caveat:\n",
    "- This is a broad and deep topic with active research\n",
    "- It is considered hard and hard to learn to be an expert\n",
    "- Whole textbooks exist\n",
    "- Active area of research, new developments\n",
    "\n",
    "# Import package\n",
    "from wordcloud import WordCloud, STOPWORDS\n",
    "\n",
    "&nbsp;"
   ]
  },
  {
   "cell_type": "markdown",
   "id": "93214366",
   "metadata": {},
   "source": [
    "# 3. Explore the dataset and example\n",
    "\n",
    "## The dataset\n",
    "The dataset we will use is a fairly chunky collection of food reviews from *Amazon.com*: [**Amazon Fine Food from Kaggle**](https://www.kaggle.com/snap/amazon-fine-food-reviews?select=Reviews.csv)\n",
    "\n",
    "Original data source J. McAuley and J. Leskovec. From amateurs to connoisseurs: modeling the evolution of user expertise through online reviews. WWW, 2013.\n",
    "\n",
    "\n",
    "&nbsp;"
   ]
  },
  {
   "cell_type": "code",
   "execution_count": null,
   "id": "4aad9921",
   "metadata": {},
   "outputs": [],
   "source": [
    "# read the data\n",
    "df = pd.read_csv('data/Reviews.csv')\n"
   ]
  },
  {
   "cell_type": "markdown",
   "id": "af7927e1",
   "metadata": {},
   "source": [
    "## The variables\n",
    "\n",
    "- **Id** - row reference\n",
    "- **ProductId** - Amazon product ID\n",
    "- **UserId** - Amazon user ID\n",
    "- **ProfileName** - Amazon user account profile name\n",
    "- **HelpfulnessNumerator** - # users who found review helpful\n",
    "- **HelpfulnessDenominator** - # users who reviewed the product\n",
    "- **Score** - star rating 1 to 5 (5 is best/perfect)\n",
    "- **Time** - measure of time (seconds since 1970, or similar?)\n",
    "- **Summary** - Text summary of review\n",
    "- **Text** - Text review\n",
    "\n",
    "\n",
    "Example product (row 3 **B000LQOCH0**)\n",
    "\n",
    "https://www.amazon.com/Turkish-Delight-Filbert-Hazelnuts-Sultan/dp/B000LQOCH0/ref=cm_cr_arp_d_product_top?ie=UTF8"
   ]
  },
  {
   "cell_type": "code",
   "execution_count": null,
   "id": "a9759f13",
   "metadata": {},
   "outputs": [],
   "source": [
    "# how many rows and columns are in the data?\n",
    "print(df.shape)\n"
   ]
  },
  {
   "cell_type": "code",
   "execution_count": null,
   "id": "b201a31d",
   "metadata": {},
   "outputs": [],
   "source": [
    "# print the first few rows of data\n",
    "df.head()"
   ]
  },
  {
   "cell_type": "code",
   "execution_count": null,
   "id": "d729e611-c305-4edb-829d-5a04c11feee6",
   "metadata": {},
   "outputs": [],
   "source": [
    "## What is the distribution of the rating like?\n"
   ]
  },
  {
   "cell_type": "code",
   "execution_count": null,
   "id": "2c94b98c-fad2-4713-992c-792514af97ea",
   "metadata": {},
   "outputs": [],
   "source": [
    "plt.hist(df['Score'], bins = 5)\n",
    "plt.show()"
   ]
  },
  {
   "cell_type": "markdown",
   "id": "9c1c3272",
   "metadata": {},
   "source": [
    "# 4. Make a basic 'word cloud'\n",
    "\n",
    "&nbsp;"
   ]
  },
  {
   "cell_type": "code",
   "execution_count": null,
   "id": "8bd41f57-8cba-4eee-bab0-6e5675c7534b",
   "metadata": {},
   "outputs": [],
   "source": [
    "# Create stopword list:\n",
    "import nltk\n",
    "nltk.download('stopwords')\n",
    "stopwords = set(stopwords.words('english'))\n",
    "stopwords.update([\"br\", \"href\"])\n",
    "textt = \" \".join(review for review in df.Text)\n",
    "\n",
    "wordcloud = WordCloud(stopwords=stopwords).generate(textt)\n",
    "plt.imshow(wordcloud, interpolation='bilinear')\n",
    "plt.axis(\"off\")\n",
    "plt.savefig('wordcloud11.png')\n",
    "plt.show()"
   ]
  },
  {
   "cell_type": "code",
   "execution_count": null,
   "id": "95a56077-46a0-4b93-a86e-a5937c77d152",
   "metadata": {},
   "outputs": [],
   "source": [
    "# assign reviews with score > 3 as positive sentiment\n",
    "# score < 3 negative sentiment\n",
    "# remove score = 3\n",
    "df = df[df['Score'] != 3]\n",
    "df['sentiment'] = df['Score'].apply(lambda rating : +1 if rating > 3 else -1)"
   ]
  },
  {
   "cell_type": "code",
   "execution_count": null,
   "id": "d70eb68c-c43e-4eac-a06b-de9749485b09",
   "metadata": {},
   "outputs": [],
   "source": [
    "# look at new data\n",
    "df.head()"
   ]
  },
  {
   "cell_type": "markdown",
   "id": "d2258855",
   "metadata": {},
   "source": [
    "# 5. Word cloud graphical data summary\n",
    "\n",
    "&nbsp;\n",
    "\n"
   ]
  },
  {
   "cell_type": "code",
   "execution_count": null,
   "id": "3587f59d-1e6d-4ca5-9057-b0f5f239d2d4",
   "metadata": {},
   "outputs": [],
   "source": [
    "# make 2 new data frames, one for positive one for negative\n",
    "\n",
    "# split df - positive and negative sentiment:\n",
    "positive = df[df['sentiment'] == 1]\n",
    "negative = df[df['sentiment'] == -1]"
   ]
  },
  {
   "cell_type": "code",
   "execution_count": null,
   "id": "6538ab25-f69a-455c-a862-3972b5a6be78",
   "metadata": {},
   "outputs": [],
   "source": [
    "# not working\n",
    "# Generate word cloud\n",
    "wordcloud = WordCloud(width= 3000, height = 2000, \n",
    "                      random_state=1, background_color='salmon', \n",
    "                      colormap='Pastel1', collocations=False, \n",
    "                      stopwords = stopwords.words('english')).generate(text)\n",
    "# Plot\n",
    "plot_cloud(wordcloud)"
   ]
  },
  {
   "cell_type": "markdown",
   "id": "f1379aac",
   "metadata": {},
   "source": [
    "# 6. Data handling for sentiment analysis\n",
    "\n",
    "&nbsp;"
   ]
  },
  {
   "cell_type": "markdown",
   "id": "5ca605a7",
   "metadata": {},
   "source": [
    "# 7. First sentiment model\n",
    "\n",
    "&nbsp;"
   ]
  },
  {
   "cell_type": "code",
   "execution_count": null,
   "id": "7eac0445-8869-44b9-abba-f111c28bfa86",
   "metadata": {},
   "outputs": [],
   "source": [
    "#distribution of sentiment\n",
    "df['sentimentt'] = df['sentiment'].replace({-1 : 'negative'})\n",
    "df['sentimentt'] = df['sentimentt'].replace({1 : 'positive'})\n",
    "\n",
    "plt.hist(df['sentimentt'], bins = 2)\n",
    "plt.show()"
   ]
  },
  {
   "cell_type": "markdown",
   "id": "4aeb2a1c",
   "metadata": {},
   "source": [
    "# 8. Evaluating the sentiment model\n",
    "\n",
    "&nbsp;"
   ]
  },
  {
   "cell_type": "markdown",
   "id": "cedae48a",
   "metadata": {},
   "source": [
    "# 9. Live coding (you try it)\n",
    "<center>\n",
    "   <img src=\"img/cat-laptop.jfif\" alt=\"cat hacker\" width=\"300\"/>\n",
    "</center>\n",
    "\n",
    "&nbsp;"
   ]
  },
  {
   "cell_type": "code",
   "execution_count": null,
   "id": "2de2c37d",
   "metadata": {},
   "outputs": [],
   "source": []
  }
 ],
 "metadata": {
  "kernelspec": {
   "display_name": "Python 3",
   "language": "python",
   "name": "python3"
  },
  "language_info": {
   "codemirror_mode": {
    "name": "ipython",
    "version": 3
   },
   "file_extension": ".py",
   "mimetype": "text/x-python",
   "name": "python",
   "nbconvert_exporter": "python",
   "pygments_lexer": "ipython3",
   "version": "3.8.8"
  },
  "toc-autonumbering": false,
  "toc-showcode": false,
  "toc-showmarkdowntxt": false,
  "toc-showtags": false
 },
 "nbformat": 4,
 "nbformat_minor": 5
}
