{
  "nbformat": 4,
  "nbformat_minor": 0,
  "metadata": {
    "colab": {
      "name": "Untitled0.ipynb",
      "provenance": []
    },
    "kernelspec": {
      "name": "python3",
      "display_name": "Python 3"
    },
    "language_info": {
      "name": "python"
    }
  },
  "cells": [
    {
      "cell_type": "markdown",
      "metadata": {
        "id": "-lYGjeoMgOy5"
      },
      "source": [
        "**Basics of Data Wrangling with Pandas**\n",
        "\n",
        "![alt text](https://drive.google.com/uc?export=view&id=1Yqgi9MadX71agkIBB1VJ_VI6rSi-uiJb)\n",
        "\n",
        "**So what is Pandas and what does it do?**\n",
        "\n",
        "It's a library for reading and manipulating data, mostly represented as dataframes, which most of us will be familiar with from R.\n",
        "\n",
        "\n",
        "***In Pandas, your data will exist as either of:***\n",
        "\n",
        "1.   DataFrames (tables)\n",
        "2.   Series (vectors/single column)\n",
        "\n",
        "![alt text](https://drive.google.com/uc?export=view&id=1y7qnIOAJHNfjPby3JM5AWZKKDDCAFghZ)\n",
        "\n",
        "Pandas Dataframe is the ground from which most of the fancy modelling is built in python. \n",
        "\n",
        "In this Colab session, we'll try to \n",
        "1. learn the basics of reading and manipulating tabular data in python.\n",
        "2. Try to see if we can import a basic csv file and do anova on it\n"
      ]
    },
    {
      "cell_type": "markdown",
      "metadata": {
        "id": "a-zcQZ7bo9QJ"
      },
      "source": [
        "**1. Installing Pandas**\n",
        "\n",
        "Like many python libraries, installing pandas is as easy as running a pip install command.\n",
        "\n",
        "For R users, think of this as \"install.packages\"\n",
        "\n",
        "Pandas comes pre-installed in Colab but let's still show the pip install"
      ]
    },
    {
      "cell_type": "code",
      "metadata": {
        "colab": {
          "base_uri": "https://localhost:8080/"
        },
        "id": "xFOu2rQagNsp",
        "outputId": "f2c47c4e-76c9-4f13-dc4d-1c45197888e9"
      },
      "source": [
        "!pip install pandas"
      ],
      "execution_count": 2,
      "outputs": [
        {
          "output_type": "stream",
          "text": [
            "Requirement already satisfied: pandas in /usr/local/lib/python3.7/dist-packages (1.1.5)\n",
            "Requirement already satisfied: pytz>=2017.2 in /usr/local/lib/python3.7/dist-packages (from pandas) (2018.9)\n",
            "Requirement already satisfied: numpy>=1.15.4 in /usr/local/lib/python3.7/dist-packages (from pandas) (1.19.5)\n",
            "Requirement already satisfied: python-dateutil>=2.7.3 in /usr/local/lib/python3.7/dist-packages (from pandas) (2.8.1)\n",
            "Requirement already satisfied: six>=1.5 in /usr/local/lib/python3.7/dist-packages (from python-dateutil>=2.7.3->pandas) (1.15.0)\n"
          ],
          "name": "stdout"
        }
      ]
    },
    {
      "cell_type": "markdown",
      "metadata": {
        "id": "DfApVcnypdSh"
      },
      "source": [
        "Now that we've installed Pandas, we have to import it to be able to use it.\n",
        "\n",
        "The \"import\" statement helps us do this.\n",
        "\n",
        "For R users, think of is as the \"library()\" function that helps us to call packages.\n",
        "\n",
        "It is standard practice to import Pandas, and store is as the object \"pd\", so that we can call \"pd\" everytime we want pandas to do something."
      ]
    },
    {
      "cell_type": "code",
      "metadata": {
        "id": "R5ao30NGtODk"
      },
      "source": [
        "import pandas as pd"
      ],
      "execution_count": 3,
      "outputs": []
    },
    {
      "cell_type": "markdown",
      "metadata": {
        "id": "43-L4g8WtYoB"
      },
      "source": [
        "**DataFrame**\n",
        "\n",
        "A DataFrame is a table. It contains an array of individual entries, each of which has a certain value. Each entry corresponds to a row (or record) and a column."
      ]
    },
    {
      "cell_type": "code",
      "metadata": {
        "colab": {
          "base_uri": "https://localhost:8080/",
          "height": 175
        },
        "id": "4ftjAW3xvJu8",
        "outputId": "05aa3c59-bf46-4e01-fe89-cc880e0d5da9"
      },
      "source": [
        "data=pd.DataFrame({'Year': [2018,2019, 2020,2021], \n",
        "                   'RUsers': [11,23,45,55]})\n",
        "data"
      ],
      "execution_count": 4,
      "outputs": [
        {
          "output_type": "execute_result",
          "data": {
            "text/html": [
              "<div>\n",
              "<style scoped>\n",
              "    .dataframe tbody tr th:only-of-type {\n",
              "        vertical-align: middle;\n",
              "    }\n",
              "\n",
              "    .dataframe tbody tr th {\n",
              "        vertical-align: top;\n",
              "    }\n",
              "\n",
              "    .dataframe thead th {\n",
              "        text-align: right;\n",
              "    }\n",
              "</style>\n",
              "<table border=\"1\" class=\"dataframe\">\n",
              "  <thead>\n",
              "    <tr style=\"text-align: right;\">\n",
              "      <th></th>\n",
              "      <th>Year</th>\n",
              "      <th>RUsers</th>\n",
              "    </tr>\n",
              "  </thead>\n",
              "  <tbody>\n",
              "    <tr>\n",
              "      <th>0</th>\n",
              "      <td>2018</td>\n",
              "      <td>11</td>\n",
              "    </tr>\n",
              "    <tr>\n",
              "      <th>1</th>\n",
              "      <td>2019</td>\n",
              "      <td>23</td>\n",
              "    </tr>\n",
              "    <tr>\n",
              "      <th>2</th>\n",
              "      <td>2020</td>\n",
              "      <td>45</td>\n",
              "    </tr>\n",
              "    <tr>\n",
              "      <th>3</th>\n",
              "      <td>2021</td>\n",
              "      <td>55</td>\n",
              "    </tr>\n",
              "  </tbody>\n",
              "</table>\n",
              "</div>"
            ],
            "text/plain": [
              "   Year  RUsers\n",
              "0  2018      11\n",
              "1  2019      23\n",
              "2  2020      45\n",
              "3  2021      55"
            ]
          },
          "metadata": {
            "tags": []
          },
          "execution_count": 4
        }
      ]
    },
    {
      "cell_type": "markdown",
      "metadata": {
        "id": "2kiPn4c_xFnA"
      },
      "source": [
        "**Nugget:** We have just used a python dictionary and list datatypes.\n",
        "\n",
        "The syntax for declaring a dataframe in Pandas is a dictionary (the {} brackets) whose keys are the column names, and whose values are a list ( the [] brackets) of entries."
      ]
    },
    {
      "cell_type": "code",
      "metadata": {
        "colab": {
          "base_uri": "https://localhost:8080/"
        },
        "id": "7fLRGbNiyTeL",
        "outputId": "0fad57b5-148b-471a-8835-7c6bf850cbf0"
      },
      "source": [
        "dictionary={'R': 'Great at stats',\n",
        "            'MATLAB': 'Best for any work that involves multi dimensional arrays (tensors) or linear algebra',\n",
        "            'Python': 'A lot of both worlds though not everything',}\n",
        "aList=['R','Python','MATLAB']\n",
        "\n",
        "print(aList)\n",
        "dictionary\n"
      ],
      "execution_count": 5,
      "outputs": [
        {
          "output_type": "stream",
          "text": [
            "['R', 'Python', 'MATLAB']\n"
          ],
          "name": "stdout"
        },
        {
          "output_type": "execute_result",
          "data": {
            "text/plain": [
              "{'MATLAB': 'Best for any work that involves multi dimensional arrays (tensors) or linear algebra',\n",
              " 'Python': 'A lot of both worlds though not everything',\n",
              " 'R': 'Great at stats'}"
            ]
          },
          "metadata": {
            "tags": []
          },
          "execution_count": 5
        }
      ]
    },
    {
      "cell_type": "markdown",
      "metadata": {
        "id": "nH5hCYOwyP1T"
      },
      "source": [
        "**Series**\n",
        "A Series is a sequence of data values. In other words, it is a list. It has no column name, but it can have rownames (called index) if you want."
      ]
    },
    {
      "cell_type": "code",
      "metadata": {
        "colab": {
          "base_uri": "https://localhost:8080/"
        },
        "id": "b3i8MNEF0qDu",
        "outputId": "3204aeca-bedf-4b78-fbbf-5d4cb0070e29"
      },
      "source": [
        "pythonUsers=pd.Series([0, 10, 18, 34])\n",
        "withYears=pd.Series([0, 10, 18, 34],\n",
        "                       index=[\"2018\",\"2019\",\"2020\",\"2021\"])\n",
        "print(pythonUsers)\n",
        "withYears"
      ],
      "execution_count": 6,
      "outputs": [
        {
          "output_type": "stream",
          "text": [
            "0     0\n",
            "1    10\n",
            "2    18\n",
            "3    34\n",
            "dtype: int64\n"
          ],
          "name": "stdout"
        },
        {
          "output_type": "execute_result",
          "data": {
            "text/plain": [
              "2018     0\n",
              "2019    10\n",
              "2020    18\n",
              "2021    34\n",
              "dtype: int64"
            ]
          },
          "metadata": {
            "tags": []
          },
          "execution_count": 6
        }
      ]
    },
    {
      "cell_type": "markdown",
      "metadata": {
        "id": "6bUpA9NC2Oki"
      },
      "source": [
        "I can add the python users to the r users dataframe using a syntax not too dissimilar to R"
      ]
    },
    {
      "cell_type": "code",
      "metadata": {
        "colab": {
          "base_uri": "https://localhost:8080/",
          "height": 175
        },
        "id": "x577K4AV1fu5",
        "outputId": "8dec2743-47d5-4074-bfd9-80c9f12255d8"
      },
      "source": [
        "data['pyUsers']=pythonUsers # if you want to use \"withYears\", you have to drop the index first withYears.reset_index(drop=True)\n",
        "data"
      ],
      "execution_count": 7,
      "outputs": [
        {
          "output_type": "execute_result",
          "data": {
            "text/html": [
              "<div>\n",
              "<style scoped>\n",
              "    .dataframe tbody tr th:only-of-type {\n",
              "        vertical-align: middle;\n",
              "    }\n",
              "\n",
              "    .dataframe tbody tr th {\n",
              "        vertical-align: top;\n",
              "    }\n",
              "\n",
              "    .dataframe thead th {\n",
              "        text-align: right;\n",
              "    }\n",
              "</style>\n",
              "<table border=\"1\" class=\"dataframe\">\n",
              "  <thead>\n",
              "    <tr style=\"text-align: right;\">\n",
              "      <th></th>\n",
              "      <th>Year</th>\n",
              "      <th>RUsers</th>\n",
              "      <th>pyUsers</th>\n",
              "    </tr>\n",
              "  </thead>\n",
              "  <tbody>\n",
              "    <tr>\n",
              "      <th>0</th>\n",
              "      <td>2018</td>\n",
              "      <td>11</td>\n",
              "      <td>0</td>\n",
              "    </tr>\n",
              "    <tr>\n",
              "      <th>1</th>\n",
              "      <td>2019</td>\n",
              "      <td>23</td>\n",
              "      <td>10</td>\n",
              "    </tr>\n",
              "    <tr>\n",
              "      <th>2</th>\n",
              "      <td>2020</td>\n",
              "      <td>45</td>\n",
              "      <td>18</td>\n",
              "    </tr>\n",
              "    <tr>\n",
              "      <th>3</th>\n",
              "      <td>2021</td>\n",
              "      <td>55</td>\n",
              "      <td>34</td>\n",
              "    </tr>\n",
              "  </tbody>\n",
              "</table>\n",
              "</div>"
            ],
            "text/plain": [
              "   Year  RUsers  pyUsers\n",
              "0  2018      11        0\n",
              "1  2019      23       10\n",
              "2  2020      45       18\n",
              "3  2021      55       34"
            ]
          },
          "metadata": {
            "tags": []
          },
          "execution_count": 7
        }
      ]
    },
    {
      "cell_type": "markdown",
      "metadata": {
        "id": "q_Z45Qoh4ii6"
      },
      "source": [
        "There are a lot of ways to pull the elements, rows, and columns from a DataFrame\n",
        "\n",
        "1. Dataframe.column[ ] ; This is native python\n",
        "\n",
        "2. Dataframe.loc[ ] : This used to index using row or column names.\n",
        "\n",
        "3. Dataframe.iloc[ ] : This uses the row or column numbers\n",
        "\n",
        "So let's try accessing the number of R-Users and pyUsers in 2019 using all three methods"
      ]
    },
    {
      "cell_type": "code",
      "metadata": {
        "colab": {
          "base_uri": "https://localhost:8080/"
        },
        "id": "aNv6MVKx18G0",
        "outputId": "9d1eb358-c34b-4faa-89c0-087a4acaa600"
      },
      "source": [
        "print(\" Native method\")\n",
        "print(\n",
        "    [data.RUsers[1],data.pyUsers[1]]\n",
        "      )\n",
        "\n",
        "print(\"Using column names\")# Remember, iloc and loc access the row first then the column\n",
        "print(\n",
        "    data.loc[1,[\"RUsers\",\"pyUsers\"]]\n",
        "    )\n",
        "\n",
        "print(\"Using column numbers\")\n",
        "print(\n",
        "    data.iloc[1,[1,2]]\n",
        "    )"
      ],
      "execution_count": 8,
      "outputs": [
        {
          "output_type": "stream",
          "text": [
            " Native method\n",
            "[23, 10]\n",
            "Using column names\n",
            "RUsers     23\n",
            "pyUsers    10\n",
            "Name: 1, dtype: int64\n",
            "Using column numbers\n",
            "RUsers     23\n",
            "pyUsers    10\n",
            "Name: 1, dtype: int64\n"
          ],
          "name": "stdout"
        }
      ]
    },
    {
      "cell_type": "markdown",
      "metadata": {
        "id": "bLM0egZmEQDS"
      },
      "source": [
        "iloc is conceptually simpler than loc because it ignores the dataset's indices. When we use iloc we treat the dataset like a big matrix (a list of lists), one that we have to index into by position. loc, by contrast, uses the information in the indices to do its work. Since your dataset usually has meaningful indices, it's usually easier to do things using loc instead."
      ]
    },
    {
      "cell_type": "markdown",
      "metadata": {
        "id": "OKr_PmzAF2po"
      },
      "source": [
        "**Filtering data**\n",
        "\n",
        "We can filter subsets of our data using some logic.\n",
        "\n",
        "For example, in which years do we have more than 25 R users?"
      ]
    },
    {
      "cell_type": "code",
      "metadata": {
        "colab": {
          "base_uri": "https://localhost:8080/"
        },
        "id": "1WkM-n7-EO1m",
        "outputId": "28298615-d10b-446c-c077-ac41714383a9"
      },
      "source": [
        "data.loc[data.RUsers> 25,\"Year\"]"
      ],
      "execution_count": 9,
      "outputs": [
        {
          "output_type": "execute_result",
          "data": {
            "text/plain": [
              "2    2020\n",
              "3    2021\n",
              "Name: Year, dtype: int64"
            ]
          },
          "metadata": {
            "tags": []
          },
          "execution_count": 9
        }
      ]
    },
    {
      "cell_type": "markdown",
      "metadata": {
        "id": "0na0rcZiHc15"
      },
      "source": [
        "There can be multiple conditions"
      ]
    },
    {
      "cell_type": "code",
      "metadata": {
        "colab": {
          "base_uri": "https://localhost:8080/"
        },
        "id": "s3rPASkSHa5d",
        "outputId": "d26be16f-6aa3-4132-f23d-bcd119869830"
      },
      "source": [
        "print(\n",
        "    data.loc[(data.RUsers>25) & (data.pyUsers>= 30),\"Year\"]\n",
        "    )\n",
        "print(data)"
      ],
      "execution_count": 10,
      "outputs": [
        {
          "output_type": "stream",
          "text": [
            "3    2021\n",
            "Name: Year, dtype: int64\n",
            "   Year  RUsers  pyUsers\n",
            "0  2018      11        0\n",
            "1  2019      23       10\n",
            "2  2020      45       18\n",
            "3  2021      55       34\n"
          ],
          "name": "stdout"
        }
      ]
    },
    {
      "cell_type": "markdown",
      "metadata": {
        "id": "nkdAF6RkKx4Z"
      },
      "source": [
        "**Deleting Columns or Rows**\n",
        "\n",
        "You can delete using the drop function. it literary drops whatever row or column you want. Remember that we read rows first then columns in pandas, therefore, to delete a row, you drop along axis \"0\". to delete a column, you drop along axis \"1\""
      ]
    },
    {
      "cell_type": "code",
      "metadata": {
        "colab": {
          "base_uri": "https://localhost:8080/"
        },
        "id": "RdWta81XK22v",
        "outputId": "78a06567-045b-471c-cd25-3bc2cfc019ae"
      },
      "source": [
        "data2=data\n",
        "data2=data2.drop(['pyUsers'], axis=1)\n",
        "print(\"Dropped one column\")\n",
        "print(data2)\n",
        "print(\"Then droppped one row\")\n",
        "data2=data2.drop(2)\n",
        "print(data2)"
      ],
      "execution_count": 11,
      "outputs": [
        {
          "output_type": "stream",
          "text": [
            "Dropped one column\n",
            "   Year  RUsers\n",
            "0  2018      11\n",
            "1  2019      23\n",
            "2  2020      45\n",
            "3  2021      55\n",
            "Then droppped one row\n",
            "   Year  RUsers\n",
            "0  2018      11\n",
            "1  2019      23\n",
            "3  2021      55\n"
          ],
          "name": "stdout"
        }
      ]
    },
    {
      "cell_type": "markdown",
      "metadata": {
        "id": "f1WBIspOS18Z"
      },
      "source": [
        "**Row-wise operation**\n",
        "\n",
        "Take a log transformation of every row in the RUsers column\n",
        "\n",
        "Map is a method within Pandas that applies an operation to a column (e.g. transforming the data)\n",
        "\n",
        "lambda is a function in python that takes a value (e.g. p) and does an operation to it (e.g. log transform)\n",
        "\n",
        "some row-wise maths functions are better-done using numpy. python's popular number-crunching library"
      ]
    },
    {
      "cell_type": "code",
      "metadata": {
        "colab": {
          "base_uri": "https://localhost:8080/"
        },
        "id": "7vC0M89CRWUp",
        "outputId": "ad6e94e4-ae29-42cb-ab14-673c22d5115b"
      },
      "source": [
        "import math\n",
        "data['Rlog']=data.RUsers.map(lambda p: math.log(p))\n",
        "import numpy as np\n",
        "data['Rlog2']=np.log(data.RUsers)\n",
        "\n",
        "data['whichYear']=data.Year.map('this is {}'.format)\n",
        "#pandas still okay for basic stuff\n",
        "data['RoverPy']=data.RUsers/data.pyUsers\n",
        "\n",
        "\n",
        "print(data)"
      ],
      "execution_count": 12,
      "outputs": [
        {
          "output_type": "stream",
          "text": [
            "   Year  RUsers  pyUsers      Rlog     Rlog2     whichYear   RoverPy\n",
            "0  2018      11        0  2.397895  2.397895  this is 2018       inf\n",
            "1  2019      23       10  3.135494  3.135494  this is 2019  2.300000\n",
            "2  2020      45       18  3.806662  3.806662  this is 2020  2.500000\n",
            "3  2021      55       34  4.007333  4.007333  this is 2021  1.617647\n"
          ],
          "name": "stdout"
        }
      ]
    },
    {
      "cell_type": "code",
      "metadata": {
        "colab": {
          "base_uri": "https://localhost:8080/"
        },
        "id": "5LhFFW-2VCJF",
        "outputId": "114ee4b8-4871-440f-f6fa-059646127fb6"
      },
      "source": [
        "data.Rlog/data.RUsers"
      ],
      "execution_count": 13,
      "outputs": [
        {
          "output_type": "execute_result",
          "data": {
            "text/plain": [
              "0    0.217990\n",
              "1    0.136326\n",
              "2    0.084592\n",
              "3    0.072861\n",
              "dtype: float64"
            ]
          },
          "metadata": {
            "tags": []
          },
          "execution_count": 13
        }
      ]
    },
    {
      "cell_type": "markdown",
      "metadata": {
        "id": "Zn6wzMCudHEg"
      },
      "source": [
        "**Reading Data from a CSV**\n",
        "\n",
        "This is how most people will create their Pandas dataframe.\n",
        "The function is just a variation of the famous \"read csv\"\n",
        "\n",
        "First, i'll connect my google drive to this session so that i can directly pull files from there. This won't be necessary if you're using an offline jupyter notebook"
      ]
    },
    {
      "cell_type": "code",
      "metadata": {
        "colab": {
          "base_uri": "https://localhost:8080/"
        },
        "id": "HHZGt4YMfuDl",
        "outputId": "90f63da8-a299-4433-a8cd-ef5458ef6608"
      },
      "source": [
        "from google.colab import drive\n",
        "\n",
        "drive.mount('/content/gdrive')\n"
      ],
      "execution_count": 14,
      "outputs": [
        {
          "output_type": "stream",
          "text": [
            "Mounted at /content/gdrive\n"
          ],
          "name": "stdout"
        }
      ]
    },
    {
      "cell_type": "markdown",
      "metadata": {
        "id": "5KM7Lsycgd-R"
      },
      "source": [
        "Now to read my iris data\n",
        "\n",
        "https://archive.ics.uci.edu/ml/datasets/iris"
      ]
    },
    {
      "cell_type": "code",
      "metadata": {
        "colab": {
          "base_uri": "https://localhost:8080/",
          "height": 206
        },
        "id": "FJeNupihghOE",
        "outputId": "9c0d7178-3ef7-47b1-a87a-d5ec92e242cc"
      },
      "source": [
        "iris=pd.read_csv('/content/gdrive/My Drive/images/iris.csv')\n",
        "iris.head()"
      ],
      "execution_count": 15,
      "outputs": [
        {
          "output_type": "execute_result",
          "data": {
            "text/html": [
              "<div>\n",
              "<style scoped>\n",
              "    .dataframe tbody tr th:only-of-type {\n",
              "        vertical-align: middle;\n",
              "    }\n",
              "\n",
              "    .dataframe tbody tr th {\n",
              "        vertical-align: top;\n",
              "    }\n",
              "\n",
              "    .dataframe thead th {\n",
              "        text-align: right;\n",
              "    }\n",
              "</style>\n",
              "<table border=\"1\" class=\"dataframe\">\n",
              "  <thead>\n",
              "    <tr style=\"text-align: right;\">\n",
              "      <th></th>\n",
              "      <th>sepLength</th>\n",
              "      <th>sepWidth</th>\n",
              "      <th>petLength</th>\n",
              "      <th>petWidth</th>\n",
              "      <th>Class</th>\n",
              "    </tr>\n",
              "  </thead>\n",
              "  <tbody>\n",
              "    <tr>\n",
              "      <th>0</th>\n",
              "      <td>5.1</td>\n",
              "      <td>3.5</td>\n",
              "      <td>1.4</td>\n",
              "      <td>0.2</td>\n",
              "      <td>Iris-setosa</td>\n",
              "    </tr>\n",
              "    <tr>\n",
              "      <th>1</th>\n",
              "      <td>4.9</td>\n",
              "      <td>3.0</td>\n",
              "      <td>1.4</td>\n",
              "      <td>0.2</td>\n",
              "      <td>Iris-setosa</td>\n",
              "    </tr>\n",
              "    <tr>\n",
              "      <th>2</th>\n",
              "      <td>4.7</td>\n",
              "      <td>3.2</td>\n",
              "      <td>1.3</td>\n",
              "      <td>0.2</td>\n",
              "      <td>Iris-setosa</td>\n",
              "    </tr>\n",
              "    <tr>\n",
              "      <th>3</th>\n",
              "      <td>4.6</td>\n",
              "      <td>3.1</td>\n",
              "      <td>1.5</td>\n",
              "      <td>0.2</td>\n",
              "      <td>Iris-setosa</td>\n",
              "    </tr>\n",
              "    <tr>\n",
              "      <th>4</th>\n",
              "      <td>5.0</td>\n",
              "      <td>3.6</td>\n",
              "      <td>1.4</td>\n",
              "      <td>0.2</td>\n",
              "      <td>Iris-setosa</td>\n",
              "    </tr>\n",
              "  </tbody>\n",
              "</table>\n",
              "</div>"
            ],
            "text/plain": [
              "   sepLength  sepWidth  petLength  petWidth        Class\n",
              "0        5.1       3.5        1.4       0.2  Iris-setosa\n",
              "1        4.9       3.0        1.4       0.2  Iris-setosa\n",
              "2        4.7       3.2        1.3       0.2  Iris-setosa\n",
              "3        4.6       3.1        1.5       0.2  Iris-setosa\n",
              "4        5.0       3.6        1.4       0.2  Iris-setosa"
            ]
          },
          "metadata": {
            "tags": []
          },
          "execution_count": 15
        }
      ]
    },
    {
      "cell_type": "markdown",
      "metadata": {
        "id": "L1SqZqxg3cfF"
      },
      "source": [
        "**Exploration**\n",
        "\n",
        "Pandas has some methods for calling matplotlib to plot and visualize your data"
      ]
    },
    {
      "cell_type": "code",
      "metadata": {
        "colab": {
          "base_uri": "https://localhost:8080/",
          "height": 283
        },
        "id": "xLBz3vqg3qE5",
        "outputId": "03c05a04-2db5-4ce6-a7f3-64162e9d1ef6"
      },
      "source": [
        "ax=iris.sepWidth.plot.hist()\n",
        "ax"
      ],
      "execution_count": 24,
      "outputs": [
        {
          "output_type": "execute_result",
          "data": {
            "text/plain": [
              "<matplotlib.axes._subplots.AxesSubplot at 0x7f708243a7d0>"
            ]
          },
          "metadata": {
            "tags": []
          },
          "execution_count": 24
        },
        {
          "output_type": "display_data",
          "data": {
            "image/png": "[encoded data removed]",
            "text/plain": [
              "<Figure size 432x288 with 1 Axes>"
            ]
          },
          "metadata": {
            "tags": [],
            "needs_background": "light"
          }
        }
      ]
    },
    {
      "cell_type": "code",
      "metadata": {
        "colab": {
          "base_uri": "https://localhost:8080/",
          "height": 297
        },
        "id": "guOCroly449a",
        "outputId": "7a2a1627-6152-4b9f-aff3-502539b48c6f"
      },
      "source": [
        "ax1 = data.plot.line(x='Year',\n",
        "                      y='RUsers',\n",
        "                      c='DarkBlue')\n",
        "ax1"
      ],
      "execution_count": 22,
      "outputs": [
        {
          "output_type": "execute_result",
          "data": {
            "text/plain": [
              "<matplotlib.axes._subplots.AxesSubplot at 0x7f70823eb310>"
            ]
          },
          "metadata": {
            "tags": []
          },
          "execution_count": 22
        },
        {
          "output_type": "display_data",
          "data": {
            "image/png": "[encoded data removed]",
            "text/plain": [
              "<Figure size 432x288 with 1 Axes>"
            ]
          },
          "metadata": {
            "tags": [],
            "needs_background": "light"
          }
        }
      ]
    },
    {
      "cell_type": "code",
      "metadata": {
        "colab": {
          "base_uri": "https://localhost:8080/",
          "height": 319
        },
        "id": "xJ7cGgzf6GCG",
        "outputId": "29d0dd40-3062-44b8-8ec9-5f069b061665"
      },
      "source": [
        "Data=iris.loc[:,[\"sepWidth\",\"Class\"]]\n",
        "\n",
        "Data.boxplot(by='Class')"
      ],
      "execution_count": 48,
      "outputs": [
        {
          "output_type": "execute_result",
          "data": {
            "text/plain": [
              "<matplotlib.axes._subplots.AxesSubplot at 0x7f707d69b9d0>"
            ]
          },
          "metadata": {
            "tags": []
          },
          "execution_count": 48
        },
        {
          "output_type": "display_data",
          "data": {
            "image/png": "[encoded data removed]",
            "text/plain": [
              "<Figure size 432x288 with 1 Axes>"
            ]
          },
          "metadata": {
            "tags": [],
            "needs_background": "light"
          }
        }
      ]
    },
    {
      "cell_type": "code",
      "metadata": {
        "id": "ufpilUsU8jzT"
      },
      "source": [
        "#list(locals().keys())\n"
      ],
      "execution_count": 53,
      "outputs": []
    },
    {
      "cell_type": "markdown",
      "metadata": {
        "id": "qg_36Yfw_VT4"
      },
      "source": [
        "**Grouping Functions**\n",
        "\n",
        "You can re-organize your data using the group_by function. This can be good for aggregation operations like in dplyr"
      ]
    },
    {
      "cell_type": "code",
      "metadata": {
        "colab": {
          "base_uri": "https://localhost:8080/"
        },
        "id": "3h5qQQHU9rtQ",
        "outputId": "4680da42-0000-4a78-84cb-1149fc039bfe"
      },
      "source": [
        "print(\"Summary Statistics\")\n",
        "print(\"Table of Means\")\n",
        "print(iris.groupby('Class').mean())\n",
        "print(\"Table of Standard Deviations\")\n",
        "print(iris.groupby('Class').std())"
      ],
      "execution_count": 58,
      "outputs": [
        {
          "output_type": "stream",
          "text": [
            "Summary Statistics\n",
            "Table of Means\n",
            "                 sepLength  sepWidth  petLength  petWidth\n",
            "Class                                                    \n",
            "Iris-setosa          5.006     3.428      1.462     0.246\n",
            "Iris-versicolor      5.936     2.770      4.260     1.326\n",
            "Iris-virginica       6.588     2.974      5.552     2.026\n",
            "Table of Standard Deviations\n",
            "                 sepLength  sepWidth  petLength  petWidth\n",
            "Class                                                    \n",
            "Iris-setosa       0.352490  0.379064   0.173664  0.105386\n",
            "Iris-versicolor   0.516171  0.313798   0.469911  0.197753\n",
            "Iris-virginica    0.635880  0.322497   0.551895  0.274650\n"
          ],
          "name": "stdout"
        }
      ]
    },
    {
      "cell_type": "markdown",
      "metadata": {
        "id": "i_GK61GpDI0R"
      },
      "source": [
        "**Summary Stats**\n",
        "\n",
        "For summary stats, you might as well just use the in-built .describe() method"
      ]
    },
    {
      "cell_type": "code",
      "metadata": {
        "colab": {
          "base_uri": "https://localhost:8080/",
          "height": 317
        },
        "id": "MoxYYCj6CuV9",
        "outputId": "0cdf94cc-4c44-41b2-cd82-23a5d297e410"
      },
      "source": [
        "print(\"In-built Summary Statistics\")\n",
        "iris.describe()"
      ],
      "execution_count": 60,
      "outputs": [
        {
          "output_type": "stream",
          "text": [
            "In-built Summary Statistics\n"
          ],
          "name": "stdout"
        },
        {
          "output_type": "execute_result",
          "data": {
            "text/html": [
              "<div>\n",
              "<style scoped>\n",
              "    .dataframe tbody tr th:only-of-type {\n",
              "        vertical-align: middle;\n",
              "    }\n",
              "\n",
              "    .dataframe tbody tr th {\n",
              "        vertical-align: top;\n",
              "    }\n",
              "\n",
              "    .dataframe thead th {\n",
              "        text-align: right;\n",
              "    }\n",
              "</style>\n",
              "<table border=\"1\" class=\"dataframe\">\n",
              "  <thead>\n",
              "    <tr style=\"text-align: right;\">\n",
              "      <th></th>\n",
              "      <th>sepLength</th>\n",
              "      <th>sepWidth</th>\n",
              "      <th>petLength</th>\n",
              "      <th>petWidth</th>\n",
              "    </tr>\n",
              "  </thead>\n",
              "  <tbody>\n",
              "    <tr>\n",
              "      <th>count</th>\n",
              "      <td>150.000000</td>\n",
              "      <td>150.000000</td>\n",
              "      <td>150.000000</td>\n",
              "      <td>150.000000</td>\n",
              "    </tr>\n",
              "    <tr>\n",
              "      <th>mean</th>\n",
              "      <td>5.843333</td>\n",
              "      <td>3.057333</td>\n",
              "      <td>3.758000</td>\n",
              "      <td>1.199333</td>\n",
              "    </tr>\n",
              "    <tr>\n",
              "      <th>std</th>\n",
              "      <td>0.828066</td>\n",
              "      <td>0.435866</td>\n",
              "      <td>1.765298</td>\n",
              "      <td>0.762238</td>\n",
              "    </tr>\n",
              "    <tr>\n",
              "      <th>min</th>\n",
              "      <td>4.300000</td>\n",
              "      <td>2.000000</td>\n",
              "      <td>1.000000</td>\n",
              "      <td>0.100000</td>\n",
              "    </tr>\n",
              "    <tr>\n",
              "      <th>25%</th>\n",
              "      <td>5.100000</td>\n",
              "      <td>2.800000</td>\n",
              "      <td>1.600000</td>\n",
              "      <td>0.300000</td>\n",
              "    </tr>\n",
              "    <tr>\n",
              "      <th>50%</th>\n",
              "      <td>5.800000</td>\n",
              "      <td>3.000000</td>\n",
              "      <td>4.350000</td>\n",
              "      <td>1.300000</td>\n",
              "    </tr>\n",
              "    <tr>\n",
              "      <th>75%</th>\n",
              "      <td>6.400000</td>\n",
              "      <td>3.300000</td>\n",
              "      <td>5.100000</td>\n",
              "      <td>1.800000</td>\n",
              "    </tr>\n",
              "    <tr>\n",
              "      <th>max</th>\n",
              "      <td>7.900000</td>\n",
              "      <td>4.400000</td>\n",
              "      <td>6.900000</td>\n",
              "      <td>2.500000</td>\n",
              "    </tr>\n",
              "  </tbody>\n",
              "</table>\n",
              "</div>"
            ],
            "text/plain": [
              "        sepLength    sepWidth   petLength    petWidth\n",
              "count  150.000000  150.000000  150.000000  150.000000\n",
              "mean     5.843333    3.057333    3.758000    1.199333\n",
              "std      0.828066    0.435866    1.765298    0.762238\n",
              "min      4.300000    2.000000    1.000000    0.100000\n",
              "25%      5.100000    2.800000    1.600000    0.300000\n",
              "50%      5.800000    3.000000    4.350000    1.300000\n",
              "75%      6.400000    3.300000    5.100000    1.800000\n",
              "max      7.900000    4.400000    6.900000    2.500000"
            ]
          },
          "metadata": {
            "tags": []
          },
          "execution_count": 60
        }
      ]
    },
    {
      "cell_type": "markdown",
      "metadata": {
        "id": "Du2wlXMeFvMu"
      },
      "source": [
        "**Using the Dataframe**\n",
        "\n",
        "Just to show how we can use the data frame, let's do a one way anova using python's statsmodels module"
      ]
    },
    {
      "cell_type": "code",
      "metadata": {
        "id": "M_oX9ZVmK4B0"
      },
      "source": [
        "import statsmodels.api as sm\n",
        "from statsmodels.formula.api import ols"
      ],
      "execution_count": null,
      "outputs": []
    },
    {
      "cell_type": "code",
      "metadata": {
        "colab": {
          "base_uri": "https://localhost:8080/"
        },
        "id": "KpUm7FrJFpaV",
        "outputId": "58465f0d-c15d-4c0b-8cc8-67d6f054d60f"
      },
      "source": [
        "mod = ols('petLength ~ Class',\n",
        "                data=iris).fit()\n",
        "                \n",
        "aov_table = sm.stats.anova_lm(mod, typ=2)\n",
        "print(aov_table)"
      ],
      "execution_count": 73,
      "outputs": [
        {
          "output_type": "stream",
          "text": [
            "            sum_sq     df            F        PR(>F)\n",
            "Class     437.1028    2.0  1180.161182  2.856777e-91\n",
            "Residual   27.2226  147.0          NaN           NaN\n"
          ],
          "name": "stdout"
        }
      ]
    },
    {
      "cell_type": "code",
      "metadata": {
        "colab": {
          "base_uri": "https://localhost:8080/"
        },
        "id": "AkO88OKDLymH",
        "outputId": "969cd4c8-aa94-4b06-ec5a-c1b1555e97a6"
      },
      "source": [
        "mod = ols('sepLength ~ petLength',\n",
        "                data=iris).fit()\n",
        "print(mod.summary())"
      ],
      "execution_count": 79,
      "outputs": [
        {
          "output_type": "stream",
          "text": [
            "                            OLS Regression Results                            \n",
            "==============================================================================\n",
            "Dep. Variable:              sepLength   R-squared:                       0.760\n",
            "Model:                            OLS   Adj. R-squared:                  0.758\n",
            "Method:                 Least Squares   F-statistic:                     468.6\n",
            "Date:                Wed, 14 Jul 2021   Prob (F-statistic):           1.04e-47\n",
            "Time:                        22:44:38   Log-Likelihood:                -77.020\n",
            "No. Observations:                 150   AIC:                             158.0\n",
            "Df Residuals:                     148   BIC:                             164.1\n",
            "Df Model:                           1                                         \n",
            "Covariance Type:            nonrobust                                         \n",
            "==============================================================================\n",
            "                 coef    std err          t      P>|t|      [0.025      0.975]\n",
            "------------------------------------------------------------------------------\n",
            "Intercept      4.3066      0.078     54.939      0.000       4.152       4.462\n",
            "petLength      0.4089      0.019     21.646      0.000       0.372       0.446\n",
            "==============================================================================\n",
            "Omnibus:                        0.207   Durbin-Watson:                   1.867\n",
            "Prob(Omnibus):                  0.902   Jarque-Bera (JB):                0.346\n",
            "Skew:                           0.069   Prob(JB):                        0.841\n",
            "Kurtosis:                       2.809   Cond. No.                         10.3\n",
            "==============================================================================\n",
            "\n",
            "Warnings:\n",
            "[1] Standard Errors assume that the covariance matrix of the errors is correctly specified.\n"
          ],
          "name": "stdout"
        }
      ]
    },
    {
      "cell_type": "markdown",
      "metadata": {
        "id": "3-6wG0h6NFmN"
      },
      "source": [
        "**Plotting Residuals**\n",
        "https://zhiyzuo.github.io/Linear-Regression-Diagnostic-in-Python/"
      ]
    }
  ]
}