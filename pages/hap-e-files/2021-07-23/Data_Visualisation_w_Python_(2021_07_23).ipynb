{
  "nbformat": 4,
  "nbformat_minor": 0,
  "metadata": {
    "colab": {
      "name": "Data Visualisation w/ Python (2021-07-23).ipynb",
      "provenance": [],
      "collapsed_sections": []
    },
    "kernelspec": {
      "name": "python3",
      "display_name": "Python 3"
    },
    "language_info": {
      "name": "python"
    }
  },
  "cells": [
    {
      "cell_type": "markdown",
      "metadata": {
        "id": "BDeblzWh-Udn"
      },
      "source": [
        "## **Introduction**\n",
        "\n",
        "Data visualisation is an essential component of data analysis. The primary objective of any data visualisation (or data viz if you're one of the cool kids) is either to allow us to understand complex data sets (exploratory data analysis) and help others understand them (presentations). R users have what is widely considered one of the best data visualisation libraries, `ggplot2`, however Python also has some pretty good options.\n"
      ]
    },
    {
      "cell_type": "markdown",
      "metadata": {
        "id": "_1U2Rm-z_Vi-"
      },
      "source": [
        "## **Plotting in Python**\n",
        "\n",
        "There are *many* Python libraries available for data visualisation. Perhaps the most well known is [`Matplotlib`](https://https://matplotlib.org/), which is a 2D plotting library that produces publication quality figures in a variety of hardcopy formats and interactive environments across platforms. \n",
        "\n",
        "Many Python data visualisation libraries are extensions of `Matplotlib`. The most commonly used extensions are:\n",
        "\n",
        "1.   [`plotnine`](https://plotnine.readthedocs.io/en/stable/) - implementation of a grammar of graphics in Python based on `ggplot2`;\n",
        "2.   [`Seaborn`](https://seaborn.pydata.org/) - high-level interface for drawing statistical graphics.  \n",
        "\n",
        "For very simple plotting you can use [`Pandas`](https://pandas.pydata.org/pandas-docs/stable/user_guide/visualization.html), but it is incredibly basic and somewhat clunky compared to the alternatives. There are also libraries for creating interactive data visualisations, but they're for another day! We are going to predominantly focus on `Seaborn` today as it quick and easy to use, but we can look at `Matplotlib` in a future meeting."
      ]
    },
    {
      "cell_type": "code",
      "metadata": {
        "id": "jzXnzJPXiBok"
      },
      "source": [
        "# install required Python libraries\n",
        "# !pip install numpy Pandas scipy Matplotlib Seaborn\n",
        "!pip install -U numpy Pandas scipy Matplotlib Seaborn\n",
        "\n",
        "# load libraries and dependencies\n",
        "import numpy as np  # arrays and linear algebra\n",
        "import pandas as pd  # data analysis\n",
        "from scipy import stats  # complex mathematical operations, technical computing, engineering, and scientific computing\n",
        "import matplotlib.pyplot as plt  # dependency for seaborn \n",
        "import seaborn as sns  # data visualisation"
      ],
      "execution_count": null,
      "outputs": []
    },
    {
      "cell_type": "code",
      "metadata": {
        "id": "EjBduhLbYVpS"
      },
      "source": [
        "# # load Python extension to use R in this notebook\n",
        "%load_ext rpy2.ipython"
      ],
      "execution_count": null,
      "outputs": []
    },
    {
      "cell_type": "code",
      "metadata": {
        "colab": {
          "base_uri": "https://localhost:8080/"
        },
        "id": "qtQ6atGNYX3X",
        "outputId": "086f4089-9f81-4010-acfd-587851c83a59"
      },
      "source": [
        "# load tidyverse \n",
        "%%R\n",
        "library(tidyverse) "
      ],
      "execution_count": null,
      "outputs": [
        {
          "output_type": "stream",
          "text": [
            "R[write to console]: ── Attaching packages ─────────────────────────────────────── tidyverse 1.3.1 ──\n",
            "\n",
            "R[write to console]: ✔ tibble  3.1.2     ✔ dplyr   1.0.7\n",
            "✔ tidyr   1.1.3     ✔ stringr 1.4.0\n",
            "✔ readr   1.4.0     ✔ forcats 0.5.1\n",
            "✔ purrr   0.3.4     \n",
            "\n",
            "R[write to console]: ── Conflicts ────────────────────────────────────────── tidyverse_conflicts() ──\n",
            "✖ dplyr::filter() masks stats::filter()\n",
            "✖ dplyr::lag()    masks stats::lag()\n",
            "\n"
          ],
          "name": "stderr"
        }
      ]
    },
    {
      "cell_type": "markdown",
      "metadata": {
        "id": "8qO-B51cX5GH"
      },
      "source": [
        "## **Data**\n",
        "\n",
        "We are going to use a classic [data set](https://ggplot2.tidyverse.org/reference/mpg.html) included with `ggplot2` that looks at fuel economy for 38 car models between 1999 and 2008. This data set contains a number of variables:\n",
        "\n",
        "*   manufacturer - manufacturer name\n",
        "*   model - model name\n",
        "*   displ - engine displacement (L)\n",
        "*   year - year of manufacture\n",
        "*   cyl - no. engine cylinders\n",
        "*   trans - type of transmission\n",
        "*   drv - type of drive train \n",
        "*   cty - city miles per gallon\n",
        "*   hwy - highway miles per gallon\n",
        "*   fl = fuel type\n",
        "*   class = type of car"
      ]
    },
    {
      "cell_type": "code",
      "metadata": {
        "id": "gdDSDo0wXC74"
      },
      "source": [
        "# download data from GitHub\n",
        "mpg = pd.read_csv('https://raw.githubusercontent.com/tidyverse/ggplot2/master/data-raw/mpg.csv')"
      ],
      "execution_count": null,
      "outputs": []
    },
    {
      "cell_type": "code",
      "metadata": {
        "id": "7P7dDIxzXK3c"
      },
      "source": [
        "# examine fuel economy data\n",
        "mpg.head(5)"
      ],
      "execution_count": null,
      "outputs": []
    },
    {
      "cell_type": "markdown",
      "metadata": {
        "id": "QsMqc_7bVG2l"
      },
      "source": [
        "## **Histograms**\n",
        "\n",
        "Histograms are used to display the distribution of one or several numerical variables. Let's use a histogram to visualise the distribution of highway miles per gallon (hwy).\n"
      ]
    },
    {
      "cell_type": "code",
      "metadata": {
        "id": "gwBmrzPoa3Dy"
      },
      "source": [
        "# basic histogram w/ ggplot2\n",
        "%%R\n",
        "ggplot(data = mpg) + \n",
        "    aes(x = hwy) + \n",
        "    geom_histogram(binwidth = 4)"
      ],
      "execution_count": null,
      "outputs": []
    },
    {
      "cell_type": "code",
      "metadata": {
        "id": "8KYr4dBPbBTz"
      },
      "source": [
        "# basic histogram w/ seaborn\n",
        "sns.distplot(mpg[\"hwy\"], kde = False, rug = False)  # kde = dernel density curve "
      ],
      "execution_count": null,
      "outputs": []
    },
    {
      "cell_type": "code",
      "metadata": {
        "colab": {
          "base_uri": "https://localhost:8080/",
          "height": 297
        },
        "id": "oyhLYxBQzbLo",
        "outputId": "03631f3c-8a66-40a0-809b-204b465d29b1"
      },
      "source": [
        "# display two distributions on one graph w/ seaborn\n",
        "sns.histplot(data = mpg, x = \"hwy\", color = \"skyblue\", label = \"Highway mpg\", kde = True)  # first distribution\n",
        "sns.histplot(data  = mpg, x = \"cty\", color = \"red\", label = \"City mpg\", kde = True)  # second distribution\n",
        "\n",
        "# note that we use a different function here!\n",
        "\n",
        "plt.legend()  # add legend"
      ],
      "execution_count": null,
      "outputs": [
        {
          "output_type": "execute_result",
          "data": {
            "text/plain": [
              "<matplotlib.legend.Legend at 0x7f55e911c3d0>"
            ]
          },
          "metadata": {
            "tags": []
          },
          "execution_count": 98
        },
        {
          "output_type": "display_data",
          "data": {
            "image/png": "[encoded data removed]",
            "text/plain": [
              "<Figure size 432x288 with 1 Axes>"
            ]
          },
          "metadata": {
            "tags": [],
            "needs_background": "light"
          }
        }
      ]
    },
    {
      "cell_type": "markdown",
      "metadata": {
        "id": "EG6hR54QbnO4"
      },
      "source": [
        "## **Boxplots**\n",
        "\n",
        "Boxplots summarise the distribution of a numeric variable for one or several groups. It allows to quickly get the median, quartiles and outliers. Let's use a boxplot to visualise the effect of car type (class) on highway mpg (hwy)."
      ]
    },
    {
      "cell_type": "code",
      "metadata": {
        "id": "5bUntjAHcsAf"
      },
      "source": [
        "# basic boxplot w/ ggplot2\n",
        "%%R\n",
        "ggplot(data = mpg) + \n",
        "    aes(x = class, y = hwy) + \n",
        "    geom_boxplot()"
      ],
      "execution_count": null,
      "outputs": []
    },
    {
      "cell_type": "code",
      "metadata": {
        "id": "gdRl6NB8dY-m"
      },
      "source": [
        "# basic boxplot w/ seaborn\n",
        "sns.boxplot(x = mpg['class'], y = mpg['hwy'])"
      ],
      "execution_count": null,
      "outputs": []
    },
    {
      "cell_type": "code",
      "metadata": {
        "id": "5eNDfpjBuA4T"
      },
      "source": [
        "# boxplot with points overlaid w/ seaborn\n",
        "sns.boxplot(x = mpg['class'], y = mpg['hwy'])  # boxplot\n",
        "\n",
        "sns.stripplot(x = 'class', y = 'hwy', data = mpg, color = \"orange\", jitter = 0.2, size = 2.5)  # strip plot"
      ],
      "execution_count": null,
      "outputs": []
    },
    {
      "cell_type": "markdown",
      "metadata": {
        "id": "W16bEDwzlJy_"
      },
      "source": [
        "## **Scatterplots**\n",
        "\n",
        "Scatterplots display the relationship between 2 numeric variables. Each data point is represented as a circle or some other shape. Let's use a scatterplot to visualise the relationship between engine displacement (displ) and highway mpg (hwy). "
      ]
    },
    {
      "cell_type": "code",
      "metadata": {
        "id": "B8N3H_1crMFE"
      },
      "source": [
        "# basic scatterplot w/ ggplot2\n",
        "%%R\n",
        "ggplot(data = mpg) +\n",
        "    aes(x = displ, y = hwy) +\n",
        "    geom_point() "
      ],
      "execution_count": null,
      "outputs": []
    },
    {
      "cell_type": "code",
      "metadata": {
        "id": "GAIGAhT3rgBb"
      },
      "source": [
        "# basic scatterplot w/ seaborn\n",
        "sns.regplot(x = mpg[\"displ\"], y = mpg[\"hwy\"], fit_reg = False)  # fit_reg = fit regression line"
      ],
      "execution_count": null,
      "outputs": []
    },
    {
      "cell_type": "code",
      "metadata": {
        "id": "kuKJD39ntClf"
      },
      "source": [
        "# scatter plot with coloured categorical variablggplot2 - categorical variable to color scatterplot\n",
        "%%R\n",
        "ggplot(data = mpg) + \n",
        "  geom_point(mapping = aes(x = displ, y = hwy, color = class))"
      ],
      "execution_count": null,
      "outputs": []
    },
    {
      "cell_type": "code",
      "metadata": {
        "id": "z9UXB5qjsCQM"
      },
      "source": [
        "# seaborn - categorical variable to color scatterplot\n",
        "sns.lmplot(x = \"displ\", y = \"hwy\", data = mpg, fit_reg = False, hue = 'class', legend = False)  # hue = variables that define data subsets \n",
        "\n",
        "plt.legend(loc = 'upper right')  # set legend location"
      ],
      "execution_count": null,
      "outputs": []
    },
    {
      "cell_type": "markdown",
      "metadata": {
        "id": "oP3VOWM2vBIk"
      },
      "source": [
        "## **Barplot**\n",
        "\n",
        "Barplots show the relationship between a numeric and a categoric variable. Each entity of the categoric variable is represented as a bar. The size of the bar represents its numeric value. Let's use a barplot to show the relationship between car type (class) and highway mpg (hwy)."
      ]
    },
    {
      "cell_type": "code",
      "metadata": {
        "colab": {
          "base_uri": "https://localhost:8080/",
          "height": 497
        },
        "id": "32SMB2AI6uUj",
        "outputId": "3c7e4dc5-ac90-4940-894d-eca39cfc7fa5"
      },
      "source": [
        "# ggplot2\n",
        "%%R\n",
        "\n",
        "# summarise data\n",
        "mpg_mean <- mpg %>%\n",
        "group_by(class) %>%\n",
        "summarise(mean_hwy = mean(hwy),\n",
        "          sd_hwy = sd(hwy))\n",
        "\n",
        "# plot summarised data\n",
        "ggplot(data = mpg_mean) +\n",
        "    aes(x = class, y = mean_hwy) +\n",
        "    geom_col() +\n",
        "    geom_errorbar(aes(ymin = mean_hwy - sd_hwy, ymax = mean_hwy + sd_hwy), width = 0)"
      ],
      "execution_count": null,
      "outputs": [
        {
          "output_type": "display_data",
          "data": {
            "image/png": "[encoded data removed]"
          },
          "metadata": {
            "tags": []
          }
        }
      ]
    },
    {
      "cell_type": "code",
      "metadata": {
        "colab": {
          "base_uri": "https://localhost:8080/",
          "height": 297
        },
        "id": "VzdVQPd1vLkE",
        "outputId": "8a8d2bef-3667-4295-e5f6-7f3ff1bd3e9a"
      },
      "source": [
        "# seaborn\n",
        "sns.barplot(x = \"class\", y = \"hwy\", data = mpg, estimator = np.mean, ci = 'sd', capsize = 0, color = 'lightgrey')"
      ],
      "execution_count": null,
      "outputs": [
        {
          "output_type": "execute_result",
          "data": {
            "text/plain": [
              "<AxesSubplot:xlabel='class', ylabel='hwy'>"
            ]
          },
          "metadata": {
            "tags": []
          },
          "execution_count": 105
        },
        {
          "output_type": "display_data",
          "data": {
            "image/png": "[encoded data removed]",
            "text/plain": [
              "<Figure size 432x288 with 1 Axes>"
            ]
          },
          "metadata": {
            "tags": [],
            "needs_background": "light"
          }
        }
      ]
    },
    {
      "cell_type": "code",
      "metadata": {
        "id": "ryAo8pzIAqEO"
      },
      "source": [
        "sns.stripplot(x = 'class', y = 'hwy', data = mpg, color = \"orange\", jitter = 0.2, size = 2.5)  # strip plot"
      ],
      "execution_count": null,
      "outputs": []
    },
    {
      "cell_type": "markdown",
      "metadata": {
        "id": "QTZBdVd7fvy5"
      },
      "source": [
        "## **Further Reading**\n",
        "\n",
        "[A Dramatic Tour through Python's Data Visualisation Landscape (2016)](https://dsaber.com/2016/10/02/a-dramatic-tour-through-pythons-data-visualization-landscape-including-ggplot-and-altair/)"
      ]
    }
  ]
}