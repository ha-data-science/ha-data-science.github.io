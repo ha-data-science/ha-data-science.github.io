{
 "cells": [
  {
   "cell_type": "markdown",
   "id": "unknown-trustee",
   "metadata": {},
   "source": [
    "# HAP-E group\n",
    "# Meeting #05 Intro to statistics in Python\n",
    "\n",
    "## HEADER\n",
    "Who: Ed Harris <br>\n",
    "What: A basic data analysis example using Python <br>\n",
    "When: 2021-08-06 <br>\n",
    "<br>"
   ]
  },
  {
   "cell_type": "markdown",
   "id": "lovely-tucson",
   "metadata": {},
   "source": [
    "## CONTENTS\n",
    "00 Setup <br>\n",
    "01 correlation <br>\n",
    "02 regression <br>\n",
    "03 1-way ANOVA <br>\n",
    "<br>"
   ]
  },
  {
   "cell_type": "markdown",
   "id": "bored-sister",
   "metadata": {},
   "source": [
    "## 00 Setup"
   ]
  },
  {
   "cell_type": "markdown",
   "id": "cloudy-length",
   "metadata": {},
   "source": [
    "### Libraries\n",
    "\n",
    "You will almost always load up a few libraries and have some setup code for every python data analysis script.  Setting up your own template script or cheatsheet might be a good idea.\n",
    "\n",
    "`Pandas` for data analysis <br>\n",
    "https://pandas.pydata.org/pandas-docs/stable/user_guide/10min.html\n",
    "\n",
    "`NumPy` for numeric manipulation <br>\n",
    "https://numpy.org/doc/stable/user/quickstart.html\n",
    "\n",
    "`Matplotlib` for graphing and visualization <br>\n",
    "https://matplotlib.org/stable/tutorials/introductory/usage.html#sphx-glr-tutorials-introductory-usage-py\n",
    "\n",
    "`SciPy` for most mainstream stats functions <br>\n",
    "https://docs.scipy.org/doc/scipy/reference/tutorial/general.html"
   ]
  },
  {
   "cell_type": "code",
   "execution_count": null,
   "id": "coated-decrease",
   "metadata": {},
   "outputs": [],
   "source": [
    "# import and \"alias\" the usual suspects**\n",
    "# **assumes these are already installed\n",
    "import pandas as pd \n",
    "import numpy as np\n",
    "import matplotlib.pyplot as plt # NB subset of matplotlib pyplot\n",
    "import scipy.stats\n",
    "import seaborn as sns # fancy plots\n",
    "\n",
    "# for 1-way ANOVA\n",
    "import statsmodels.api as sm\n",
    "from statsmodels.formula.api import ols\n",
    "\n",
    "# for displaying plots \"in-line\" in notebooks\n",
    "%matplotlib inline "
   ]
  },
  {
   "cell_type": "markdown",
   "id": "known-excitement",
   "metadata": {},
   "source": [
    "### Read in some data\n",
    "\n",
    "The dataset we will use is in Tidy Data format [(see Wickham 2014)](https://vita.had.co.nz/papers/tidy-data.pdf).\n",
    "\n",
    "The data are in an Excel file `potatoes.xlsx` with the first tab containing the data and the second tab containing a data dictionary, describing the variables in a reproducible way.\n",
    "\n",
    "`variety` the potato variety - 3 types of potato are in this dataset\n",
    "\n",
    "`plant_count` the number of plants per sample\n",
    "\n",
    "`stem_count` the number of stems per sample\n",
    "\n",
    "`tuber_count` the (mean) number of potatoes per m^2\n",
    "\n",
    "This is part of a real, bigger dataset looking at growth patterns in potato yield.\n"
   ]
  },
  {
   "cell_type": "markdown",
   "id": "unknown-tactics",
   "metadata": {},
   "source": [
    "Some generic code for reading in data\n",
    "\n",
    "For a local file:\n",
    "\n",
    "`df = pd.read_excel (r'Path where the Excel file is stored\\File name.xlsx', sheet_name='your Excel sheet name')` <br>\n",
    "`print (df)`\n",
    "\n",
    "For a web file:\n",
    "\n",
    "`df = pd.read_excel ('http://URL for your data.com/file_name.xlsx')` <br>\n",
    "`print (df)`\n",
    "\n",
    "<br>"
   ]
  },
  {
   "cell_type": "code",
   "execution_count": null,
   "id": "following-catalyst",
   "metadata": {},
   "outputs": [],
   "source": [
    "# Read in the data\n",
    "\n",
    "tattiedat = pd.read_excel(\"potatoes.xlsx\")\n",
    "\n",
    "# Examine the data object\n",
    "# NB '.head()' is an \"attribute\" function of the data object \n",
    "tattiedat.head()"
   ]
  },
  {
   "cell_type": "code",
   "execution_count": null,
   "id": "absolute-mountain",
   "metadata": {},
   "outputs": [],
   "source": [
    "# Coarse summary of numeric variables\n",
    "tattiedat.describe()"
   ]
  },
  {
   "cell_type": "code",
   "execution_count": null,
   "id": "extended-astrology",
   "metadata": {},
   "outputs": [],
   "source": [
    "# Coarse summary of character variables\n",
    "tattiedat.describe(include = ['object'])"
   ]
  },
  {
   "cell_type": "markdown",
   "id": "played-richardson",
   "metadata": {},
   "source": [
    "<br>\n",
    "Maybe you would like a frequency summary of a categorical variable?"
   ]
  },
  {
   "cell_type": "code",
   "execution_count": null,
   "id": "bulgarian-performance",
   "metadata": {},
   "outputs": [],
   "source": [
    "tattiedat.value_counts('variety')"
   ]
  },
  {
   "cell_type": "markdown",
   "id": "adolescent-african",
   "metadata": {},
   "source": [
    "### Histogram\n",
    "\n",
    "Graph the distribution of a numeric variable"
   ]
  },
  {
   "cell_type": "code",
   "execution_count": null,
   "id": "apparent-thousand",
   "metadata": {},
   "outputs": [],
   "source": [
    "# remember plt is matplotlib.pyplot\n",
    "# using the hist() function on mumeric data\n",
    "# print(tattiedat['stem_count'])\n",
    "plt.hist(tattiedat['stem_count'])"
   ]
  },
  {
   "cell_type": "markdown",
   "id": "rural-issue",
   "metadata": {},
   "source": [
    "<br>\n",
    "We can make the plot prettier if required for more than just exploring the data."
   ]
  },
  {
   "cell_type": "code",
   "execution_count": null,
   "id": "quantitative-coating",
   "metadata": {},
   "outputs": [],
   "source": [
    "tattiedat.describe()['stem_count']"
   ]
  },
  {
   "cell_type": "code",
   "execution_count": null,
   "id": "difficult-volunteer",
   "metadata": {},
   "outputs": [],
   "source": [
    "# Beautifying functions for plots\n",
    "plt.hist(tattiedat['stem_count'])\n",
    "plt.xlabel('Stem count per sample')\n",
    "plt.ylabel('Frequency')\n",
    "plt.title('Distribution of stem count for \\n several potato varieties ')\n",
    "plt.ylim(ymax = 40)\n",
    "plt.text(x = 35, y = 30, s = 'mean = 25.9')"
   ]
  },
  {
   "cell_type": "markdown",
   "id": "biological-restriction",
   "metadata": {},
   "source": [
    "### Barplot\n",
    "\n",
    "Barplot for the count data potato varieties. "
   ]
  },
  {
   "cell_type": "code",
   "execution_count": null,
   "id": "rubber-finder",
   "metadata": {},
   "outputs": [],
   "source": [
    "tattiedat.value_counts('variety')"
   ]
  },
  {
   "cell_type": "code",
   "execution_count": null,
   "id": "victorian-burke",
   "metadata": {},
   "outputs": [],
   "source": [
    "var = ['Maris Piper', 'Georgina', 'Lanorma']\n",
    "count = [64, 50, 27]\n",
    "plt.bar(var, count)\n",
    "plt.xlabel('Potato variety')\n",
    "plt.ylabel('Frequency')\n",
    "plt.title('N observations for each potato variety ')"
   ]
  },
  {
   "cell_type": "markdown",
   "id": "charming-beauty",
   "metadata": {},
   "source": [
    "## 01 correlation\n",
    "\n",
    "Let's look at a simple correlation between the `stem_count` and the `plant_count`"
   ]
  },
  {
   "cell_type": "code",
   "execution_count": null,
   "id": "separate-october",
   "metadata": {},
   "outputs": [],
   "source": [
    "plt.scatter(x = tattiedat['plant_count'], y = tattiedat['stem_count'])\n",
    "plt.xlabel('Plant count')\n",
    "plt.ylabel('Stem count')\n",
    "plt.title('Relationship between stems and plants')"
   ]
  },
  {
   "cell_type": "markdown",
   "id": "numerous-trading",
   "metadata": {},
   "source": [
    "<br>\n",
    "Looking at the plot, we would expect a strong, significant positive correlation."
   ]
  },
  {
   "cell_type": "code",
   "execution_count": null,
   "id": "surrounded-berlin",
   "metadata": {},
   "outputs": [],
   "source": [
    "# calculate the correlation and test it\n",
    "# NB the data type conversion np.array()\n",
    "mycor = scipy.stats.pearsonr(x = np.array(tattiedat['plant_count']), \n",
    "                     y = np.array(tattiedat['stem_count']))\n",
    "mycor"
   ]
  },
  {
   "cell_type": "code",
   "execution_count": null,
   "id": "raised-internet",
   "metadata": {},
   "outputs": [],
   "source": [
    "print('The correlation coefficient is r = ', round(mycor[0], 3), '\\n', \n",
    "      'The P-value is P = ', round(mycor[1], 15))"
   ]
  },
  {
   "cell_type": "markdown",
   "id": "productive-slovakia",
   "metadata": {},
   "source": [
    "## 02 regression\n",
    "\n",
    "Let's perform regression to predict the tuber number from the stem number."
   ]
  },
  {
   "cell_type": "code",
   "execution_count": null,
   "id": "enclosed-converter",
   "metadata": {},
   "outputs": [],
   "source": [
    "# do the regression\n",
    "lm0 = scipy.stats.linregress(x = tattiedat['stem_count'], \n",
    "                       y = tattiedat['tuber_count'])\n",
    "\n",
    "# ugly\n",
    "lm0 "
   ]
  },
  {
   "cell_type": "code",
   "execution_count": null,
   "id": "demographic-masters",
   "metadata": {},
   "outputs": [],
   "source": [
    "# pretty\n",
    "print('The intercept (std err) = ', \n",
    "      round(lm0.intercept,3), '(', \n",
    "      round(lm0.intercept_stderr,3), ')')\n",
    "\n",
    "print('The slope (std err) = ', \n",
    "      round(lm0.slope,3), '(', \n",
    "      round(lm0.stderr,3), ')')\n",
    "\n",
    "print('The R-squared value =  ', \n",
    "      round(lm0.rvalue,3))\n",
    "\n",
    "print('The P-value =  ', \n",
    "      round(lm0.pvalue,3))\n"
   ]
  },
  {
   "cell_type": "code",
   "execution_count": null,
   "id": "dominant-suspension",
   "metadata": {},
   "outputs": [],
   "source": [
    "# base scatterplot\n",
    "plt.scatter(x = tattiedat['stem_count'], y = tattiedat['tuber_count'])\n",
    "plt.xlabel('Stem count')\n",
    "plt.ylabel('Tuber count')\n",
    "plt.title('Relationship between tubers and stems')"
   ]
  },
  {
   "cell_type": "code",
   "execution_count": null,
   "id": "differential-broad",
   "metadata": {},
   "outputs": [],
   "source": [
    "# regression plot\n",
    "sns.regplot(x = tattiedat['stem_count'],\n",
    "            y = tattiedat['tuber_count'])\n",
    "plt.xlabel('Stem count')\n",
    "plt.ylabel('Tuber count')\n",
    "plt.title('Relationship between tubers and stems')"
   ]
  },
  {
   "cell_type": "code",
   "execution_count": null,
   "id": "developmental-heating",
   "metadata": {},
   "outputs": [],
   "source": [
    "tattiedat['stem_count']"
   ]
  },
  {
   "cell_type": "markdown",
   "id": "quiet-vintage",
   "metadata": {},
   "source": [
    "## 03 1-way ANOVA"
   ]
  },
  {
   "cell_type": "markdown",
   "id": "whole-advantage",
   "metadata": {},
   "source": [
    "Simple 1-way ANOVA for the number of stems as a function of potato variety.\n",
    "<br>"
   ]
  },
  {
   "cell_type": "code",
   "execution_count": null,
   "id": "infinite-edition",
   "metadata": {},
   "outputs": [],
   "source": [
    "# first make a boxplot\n",
    "tattiedat.boxplot('stem_count', by = 'variety')\n",
    "plt.xlabel('Potato variety')\n",
    "plt.ylabel('Stem count')"
   ]
  },
  {
   "cell_type": "code",
   "execution_count": null,
   "id": "intimate-vector",
   "metadata": {},
   "outputs": [],
   "source": [
    "# calculate ANOVA stem_count ~ variety\n",
    "aov0 = ols('stem_count ~ variety', data = tattiedat).fit()\n",
    "aov0_table = sm.stats.anova_lm(aov0, typ = 2)\n",
    "print(aov0_table)"
   ]
  }
 ],
 "metadata": {
  "kernelspec": {
   "display_name": "Python 3",
   "language": "python",
   "name": "python3"
  },
  "language_info": {
   "codemirror_mode": {
    "name": "ipython",
    "version": 3
   },
   "file_extension": ".py",
   "mimetype": "text/x-python",
   "name": "python",
   "nbconvert_exporter": "python",
   "pygments_lexer": "ipython3",
   "version": "3.7.10"
  }
 },
 "nbformat": 4,
 "nbformat_minor": 5
}
